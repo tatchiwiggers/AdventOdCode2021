{
 "cells": [
  {
   "cell_type": "code",
   "execution_count": 11,
   "id": "62f83756",
   "metadata": {
    "scrolled": false
   },
   "outputs": [],
   "source": [
    "import pandas as pd"
   ]
  },
  {
   "cell_type": "code",
   "execution_count": 35,
   "id": "ab95bb9c",
   "metadata": {},
   "outputs": [],
   "source": [
    "file = pd.read_table('input.txt', delimiter=\" \")"
   ]
  },
  {
   "cell_type": "code",
   "execution_count": 38,
   "id": "7721a49e",
   "metadata": {},
   "outputs": [],
   "source": [
    "nums = file['num'].values"
   ]
  },
  {
   "cell_type": "code",
   "execution_count": 39,
   "id": "fb4ecb5d",
   "metadata": {},
   "outputs": [],
   "source": [
    "def measurement(nums):\n",
    "    return [nums[i] > nums[i - 1] for i in range(len(nums))].count(True)"
   ]
  },
  {
   "cell_type": "code",
   "execution_count": 41,
   "id": "516b200b",
   "metadata": {},
   "outputs": [
    {
     "data": {
      "text/plain": [
       "1624"
      ]
     },
     "execution_count": 41,
     "metadata": {},
     "output_type": "execute_result"
    }
   ],
   "source": [
    "measurement(nums)"
   ]
  }
 ],
 "metadata": {
  "kernelspec": {
   "display_name": "Python 3 (ipykernel)",
   "language": "python",
   "name": "python3"
  },
  "language_info": {
   "codemirror_mode": {
    "name": "ipython",
    "version": 3
   },
   "file_extension": ".py",
   "mimetype": "text/x-python",
   "name": "python",
   "nbconvert_exporter": "python",
   "pygments_lexer": "ipython3",
   "version": "3.8.12"
  },
  "toc": {
   "base_numbering": 1,
   "nav_menu": {},
   "number_sections": true,
   "sideBar": true,
   "skip_h1_title": false,
   "title_cell": "Table of Contents",
   "title_sidebar": "Contents",
   "toc_cell": false,
   "toc_position": {},
   "toc_section_display": true,
   "toc_window_display": false
  }
 },
 "nbformat": 4,
 "nbformat_minor": 5
}
